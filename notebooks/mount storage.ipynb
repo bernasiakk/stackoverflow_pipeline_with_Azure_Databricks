{
 "cells": [
  {
   "cell_type": "markdown",
   "metadata": {
    "application/vnd.databricks.v1+cell": {
     "cellMetadata": {
      "byteLimit": 2048000,
      "rowLimit": 10000
     },
     "inputWidgets": {},
     "nuid": "9bf52f56-e8a8-4079-af91-ac4bf0854f8b",
     "showTitle": false,
     "title": ""
    }
   },
   "source": [
    "### Set up configuration"
   ]
  },
  {
   "cell_type": "code",
   "execution_count": null,
   "metadata": {
    "application/vnd.databricks.v1+cell": {
     "cellMetadata": {
      "byteLimit": 2048000,
      "rowLimit": 10000
     },
     "inputWidgets": {},
     "nuid": "45ea0162-0db5-4e81-8c65-f59c65f4246f",
     "showTitle": false,
     "title": ""
    }
   },
   "outputs": [],
   "source": [
    "service_credential1 = dbutils.secrets.get(scope=\"stackoverflow\",key=\"sp-key-stackoverflow1\") #TODO\n",
    "service_credential2 = dbutils.secrets.get(scope=\"stackoverflow\",key=\"sp-key-stackoverflow2\") #TODO I created 2 app registrations, \n",
    "                                                                                            # but it should be ok if you create just 1 \n",
    "                                                                                            # and reference the same in both configs\n",
    "\n",
    "configs_bronze = {\n",
    "    \"fs.azure.account.auth.type\": \"OAuth\",\n",
    "    \"fs.azure.account.oauth.provider.type\": \"org.apache.hadoop.fs.azurebfs.oauth2.ClientCredsTokenProvider\",\n",
    "    \"fs.azure.account.oauth2.client.id\": \"aca6fbb0-9d61-4358-bae8-d9599449be39\", #TODO\n",
    "    \"fs.azure.account.oauth2.client.secret\": service_credential2, #TODO \n",
    "    \"fs.azure.account.oauth2.client.endpoint\": \"https://login.microsoftonline.com/81e25e44-b9a0-464e-a60e-258605044fe0/oauth2/token\" #TODO it's directory ID\n",
    "}\n",
    "\n",
    "configs = { #TODO, same as above\n",
    "    \"fs.azure.account.auth.type\": \"OAuth\",\n",
    "    \"fs.azure.account.oauth.provider.type\": \"org.apache.hadoop.fs.azurebfs.oauth2.ClientCredsTokenProvider\",\n",
    "    \"fs.azure.account.oauth2.client.id\": \"66dcd1f0-0a80-4d90-9569-f0a9e16efa01\", \n",
    "    \"fs.azure.account.oauth2.client.secret\": service_credential1,\n",
    "    \"fs.azure.account.oauth2.client.endpoint\": \"https://login.microsoftonline.com/81e25e44-b9a0-464e-a60e-258605044fe0/oauth2/token\"\n",
    "}"
   ]
  },
  {
   "cell_type": "markdown",
   "metadata": {
    "application/vnd.databricks.v1+cell": {
     "cellMetadata": {
      "byteLimit": 2048000,
      "rowLimit": 10000
     },
     "inputWidgets": {},
     "nuid": "e0ef24d5-019a-4b47-8c6b-93ea8712a4e5",
     "showTitle": false,
     "title": ""
    }
   },
   "source": [
    "### Mount Storage"
   ]
  },
  {
   "cell_type": "code",
   "execution_count": null,
   "metadata": {
    "application/vnd.databricks.v1+cell": {
     "cellMetadata": {
      "byteLimit": 2048000,
      "rowLimit": 10000
     },
     "inputWidgets": {},
     "nuid": "9cb49b17-e97c-4459-917e-05b0649e658d",
     "showTitle": false,
     "title": ""
    }
   },
   "outputs": [
    {
     "data": {
      "text/plain": [
       "[]"
      ]
     },
     "execution_count": 6,
     "metadata": {},
     "output_type": "execute_result"
    }
   ],
   "source": [
    "# dbutils.fs.unmount(\"/mnt/stackoverflow/bronze/\") #TODO untag in case you messed up mounting and need to reload using new config\n",
    "\n",
    "dbutils.fs.mount(\n",
    "    source=\"abfss://bronze@rawfilesstackoverflow.dfs.core.windows.net\", #TODO\n",
    "    mount_point=\"/mnt/stackoverflow/bronze/\",\n",
    "    extra_configs=configs_bronze\n",
    ")\n",
    "\n",
    "dbutils.fs.ls(\"/mnt/stackoverflow/bronze/\") #confirm it's empty"
   ]
  },
  {
   "cell_type": "code",
   "execution_count": null,
   "metadata": {
    "application/vnd.databricks.v1+cell": {
     "cellMetadata": {
      "byteLimit": 2048000,
      "rowLimit": 10000
     },
     "inputWidgets": {},
     "nuid": "ca4d9e7c-142e-40b8-a21e-31d85fb8ad64",
     "showTitle": false,
     "title": ""
    }
   },
   "outputs": [
    {
     "name": "stdout",
     "output_type": "stream",
     "text": [
      "/mnt/stackoverflow/silver/ has been unmounted.\n"
     ]
    },
    {
     "data": {
      "text/plain": [
       "True"
      ]
     },
     "execution_count": 7,
     "metadata": {},
     "output_type": "execute_result"
    }
   ],
   "source": [
    "# dbutils.fs.unmount(\"/mnt/stackoverflow/silver/\")\n",
    "\n",
    "dbutils.fs.mount(\n",
    "    source=\"abfss://silver@storagestackoverflow.dfs.core.windows.net\", #TODO\n",
    "    mount_point=\"/mnt/stackoverflow/silver/\",\n",
    "    extra_configs=configs\n",
    ")"
   ]
  },
  {
   "cell_type": "code",
   "execution_count": null,
   "metadata": {
    "application/vnd.databricks.v1+cell": {
     "cellMetadata": {
      "byteLimit": 2048000,
      "rowLimit": 10000
     },
     "inputWidgets": {},
     "nuid": "26f9b842-6594-4f7b-a500-c6700c339c22",
     "showTitle": false,
     "title": ""
    }
   },
   "outputs": [
    {
     "name": "stdout",
     "output_type": "stream",
     "text": [
      "/mnt/stackoverflow/gold/ has been unmounted.\n"
     ]
    },
    {
     "data": {
      "text/plain": [
       "True"
      ]
     },
     "execution_count": 8,
     "metadata": {},
     "output_type": "execute_result"
    }
   ],
   "source": [
    "# dbutils.fs.unmount(\"/mnt/stackoverflow/gold/\")\n",
    "\n",
    "dbutils.fs.mount(\n",
    "    source=\"abfss://gold@storagestackoverflow.dfs.core.windows.net\", #TODO\n",
    "    mount_point=\"/mnt/stackoverflow/gold/\",\n",
    "    extra_configs=configs\n",
    ")"
   ]
  }
 ],
 "metadata": {
  "application/vnd.databricks.v1+notebook": {
   "dashboards": [],
   "environmentMetadata": {
    "base_environment": "",
    "client": "1"
   },
   "language": "python",
   "notebookMetadata": {
    "pythonIndentUnit": 4
   },
   "notebookName": "mount storage",
   "widgets": {}
  },
  "language_info": {
   "name": "python"
  }
 },
 "nbformat": 4,
 "nbformat_minor": 0
}

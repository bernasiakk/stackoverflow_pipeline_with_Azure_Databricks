{
 "cells": [
  {
   "cell_type": "markdown",
   "metadata": {
    "application/vnd.databricks.v1+cell": {
     "cellMetadata": {
      "byteLimit": 2048000,
      "rowLimit": 10000
     },
     "inputWidgets": {},
     "nuid": "37dd7043-31e9-4b2e-ae68-762fb9ac818c",
     "showTitle": false,
     "title": ""
    }
   },
   "source": [
    "### Merge tables and write to gold layer\n",
    "*this layer removes \"favorite_count\" as this column generated errors and is not used in the analysis"
   ]
  },
  {
   "cell_type": "code",
   "execution_count": null,
   "metadata": {
    "application/vnd.databricks.v1+cell": {
     "cellMetadata": {
      "byteLimit": 2048000,
      "rowLimit": 10000
     },
     "inputWidgets": {},
     "nuid": "c56d2216-8e3c-402a-968c-cd2d50fc9f3b",
     "showTitle": false,
     "title": ""
    }
   },
   "outputs": [
    {
     "name": "stdout",
     "output_type": "stream",
     "text": [
      "Writing to ./badges\n",
      "Completed writing to ./badges\n",
      "\n",
      "Writing to ./comments\n",
      "Completed writing to ./comments\n",
      "\n",
      "Writing to ./posthistory\n",
      "Completed writing to ./posthistory\n",
      "\n",
      "Writing to ./posts\n",
      "Completed writing to ./posts\n",
      "\n",
      "Writing to ./tags\n",
      "Completed writing to ./tags\n",
      "\n",
      "Writing to ./users\n",
      "Completed writing to ./users\n",
      "\n",
      "Writing to ./votes\n",
      "Completed writing to ./votes\n",
      "\n"
     ]
    }
   ],
   "source": [
    "from pyspark.sql import DataFrame\n",
    "from databricks_filesystem import DatabricksFilesystem\n",
    "\n",
    "adb_fs = DatabricksFilesystem(dbutils=dbutils)\n",
    "\n",
    "file_list = adb_fs.filesystem_list(filesystem_path=\"mnt/stackoverflow/silver\") #This one lists them all\n",
    "\n",
    "filepaths = []\n",
    "\n",
    "for filepath in file_list:\n",
    "    if '.parquet' in filepath:\n",
    "        filepaths.append(\"/\".join(filepath.split(\"/\")[:-1]))\n",
    "\n",
    "# print(f'FILTERED LIST: {filepaths}')\n",
    "# print('')\n",
    "\n",
    "tablenames = ['badges', 'comments', 'posthistory', 'posts', 'tags', 'users', 'votes'] #TODO udpate only if stackoverflow archive\n",
    "                                                                                    # adds new table type, which is unlikely\n",
    "\n",
    "for tablename in tablenames:\n",
    "    merged_df = None\n",
    "    print(f\"Writing to ./{tablename}\")\n",
    "    for filepath in filepaths:\n",
    "        if filepath.split('/')[-1] == tablename:\n",
    "            df = spark.read.format(\"delta\").load(filepath)\n",
    "            for col in df.columns:\n",
    "                if 'favorite_count' in col:\n",
    "                    df = df.drop(col)\n",
    "            # If merged_df is empty, assign the first dataframe to it\n",
    "            if merged_df is None:\n",
    "                merged_df = df\n",
    "            else:\n",
    "                # Union (merge) the DataFrames\n",
    "                merged_df = merged_df.unionByName(df)\n",
    "    dest = f'/mnt/stackoverflow/gold/stackoverflow/{tablename}/' #/dbfs\n",
    "    merged_df.write.format(\"delta\").mode(\"overwrite\").option(\"mergeSchema\", \"true\").save(dest)\n",
    "    print(f\"Completed writing to ./{tablename}\")\n",
    "    print('')\n"
   ]
  }
 ],
 "metadata": {
  "application/vnd.databricks.v1+notebook": {
   "dashboards": [],
   "environmentMetadata": {
    "base_environment": "",
    "client": "1"
   },
   "language": "python",
   "notebookMetadata": {
    "pythonIndentUnit": 4
   },
   "notebookName": "silver to gold",
   "widgets": {}
  },
  "language_info": {
   "name": "python"
  }
 },
 "nbformat": 4,
 "nbformat_minor": 0
}
